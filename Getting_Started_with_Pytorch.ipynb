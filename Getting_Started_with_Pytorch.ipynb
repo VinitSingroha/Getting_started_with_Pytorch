{
 "cells": [
  {
   "cell_type": "code",
   "execution_count": 1,
   "id": "33f90fcc-0f2b-49d9-a037-65bf2ec1f6ea",
   "metadata": {},
   "outputs": [
    {
     "name": "stdout",
     "output_type": "stream",
     "text": [
      "Requirement already satisfied: torch in c:\\users\\vinee\\anaconda3\\lib\\site-packages (1.13.1)\n",
      "Requirement already satisfied: typing-extensions in c:\\users\\vinee\\anaconda3\\lib\\site-packages (from torch) (4.1.1)\n"
     ]
    }
   ],
   "source": [
    "!pip install torch"
   ]
  },
  {
   "cell_type": "code",
   "execution_count": 1,
   "id": "63ba1dc3-5717-4cd2-9d63-d616121f34d5",
   "metadata": {},
   "outputs": [],
   "source": [
    "import torch \n",
    "vector= torch.tensor([2,3])"
   ]
  },
  {
   "cell_type": "code",
   "execution_count": 2,
   "id": "bbf546b6-9a30-468b-a667-e36a5c153497",
   "metadata": {},
   "outputs": [
    {
     "data": {
      "text/plain": [
       "1"
      ]
     },
     "execution_count": 2,
     "metadata": {},
     "output_type": "execute_result"
    }
   ],
   "source": [
    "vector.ndim"
   ]
  },
  {
   "cell_type": "code",
   "execution_count": 3,
   "id": "2a8873ab-c05e-4a3f-b315-cbcca830f0f2",
   "metadata": {},
   "outputs": [
    {
     "data": {
      "text/plain": [
       "tensor(20)"
      ]
     },
     "execution_count": 3,
     "metadata": {},
     "output_type": "execute_result"
    }
   ],
   "source": [
    " ### Matrix multiplication  or dot product\n",
    "torch.matmul(torch.tensor([2,3,4]),torch.tensor([1,2,3]))"
   ]
  },
  {
   "cell_type": "markdown",
   "id": "b4fb8a35-e555-42e4-bc10-5c520444b1c1",
   "metadata": {},
   "source": [
    "## Reshaping , squeezing, unsqueezing the tensors \n",
    "\n",
    "* Reshaping\n",
    "\n",
    "* view -  Return a view of the input tensor of certain shape but keep the same memory as the original tensor\n",
    "\n",
    "* Stacking - Combine the multiple tensors on top of each other (vstack ) or side by side (hstack)\n",
    "\n",
    "* Squeeze - Removes all '1' dimension d=from a tensor \n",
    "\n",
    "* Permute"
   ]
  },
  {
   "cell_type": "code",
   "execution_count": 4,
   "id": "d2a98b8a-1a00-4bfc-ad28-f9f73c380b19",
   "metadata": {},
   "outputs": [
    {
     "data": {
      "text/plain": [
       "(tensor([1., 2., 3., 4., 5., 6., 7., 8., 9.]), torch.Size([9]))"
      ]
     },
     "execution_count": 4,
     "metadata": {},
     "output_type": "execute_result"
    }
   ],
   "source": [
    "x= torch.arange(1., 10.)\n",
    "x, x.shape"
   ]
  },
  {
   "cell_type": "code",
   "execution_count": 5,
   "id": "04a01fe6-23a1-493c-8fad-d010c0c4491a",
   "metadata": {},
   "outputs": [
    {
     "data": {
      "text/plain": [
       "tensor([[1., 2., 3., 4., 5., 6., 7., 8., 9.]])"
      ]
     },
     "execution_count": 5,
     "metadata": {},
     "output_type": "execute_result"
    }
   ],
   "source": [
    "x_1 = x.reshape(1, 9)\n",
    "x_1"
   ]
  },
  {
   "cell_type": "code",
   "execution_count": 6,
   "id": "2b42af3c-a687-4d68-9d81-82865a506639",
   "metadata": {},
   "outputs": [
    {
     "data": {
      "text/plain": [
       "tensor([[1.],\n",
       "        [2.],\n",
       "        [3.],\n",
       "        [4.],\n",
       "        [5.],\n",
       "        [6.],\n",
       "        [7.],\n",
       "        [8.],\n",
       "        [9.]])"
      ]
     },
     "execution_count": 6,
     "metadata": {},
     "output_type": "execute_result"
    }
   ],
   "source": [
    "x_2 = x.reshape(9, 1)\n",
    "x_2"
   ]
  },
  {
   "cell_type": "code",
   "execution_count": 7,
   "id": "0abed2e5-2e22-45bb-980b-cc42f8f204bc",
   "metadata": {},
   "outputs": [
    {
     "data": {
      "text/plain": [
       "tensor([[1., 2., 3., 4., 5., 6., 7., 8., 9.]])"
      ]
     },
     "execution_count": 7,
     "metadata": {},
     "output_type": "execute_result"
    }
   ],
   "source": [
    "## View \n",
    "z= x.view(1, 9)\n",
    "z"
   ]
  },
  {
   "cell_type": "code",
   "execution_count": 8,
   "id": "29cf3ce7-004b-4893-b154-f8629ecd9ee3",
   "metadata": {},
   "outputs": [
    {
     "data": {
      "text/plain": [
       "(tensor([1., 2., 3., 4., 5., 6., 7., 8., 9.]),\n",
       " tensor([5., 5., 5., 5., 5., 5., 5., 5., 5.]))"
      ]
     },
     "execution_count": 8,
     "metadata": {},
     "output_type": "execute_result"
    }
   ],
   "source": [
    "## Changing the z will also change the x because they share same memory \n",
    "z[0][:]=5\n",
    "z= torch.arange(1., 10.)\n",
    "z, x"
   ]
  },
  {
   "cell_type": "code",
   "execution_count": 19,
   "id": "a339318f-4012-4878-a912-4eac10fdea41",
   "metadata": {},
   "outputs": [
    {
     "data": {
      "text/plain": [
       "(tensor([[5., 5., 5.],\n",
       "         [5., 5., 5.],\n",
       "         [5., 5., 5.],\n",
       "         [5., 5., 5.],\n",
       "         [5., 5., 5.],\n",
       "         [5., 5., 5.],\n",
       "         [5., 5., 5.],\n",
       "         [5., 5., 5.],\n",
       "         [5., 5., 5.]]),\n",
       " torch.Size([9, 3]))"
      ]
     },
     "execution_count": 19,
     "metadata": {},
     "output_type": "execute_result"
    }
   ],
   "source": [
    "# Stack \n",
    "x_stack = torch.stack([x,x,x], dim=1)  # 0,1 only dimensions compatible for tensor x\n",
    "x_stack, x_stack.shape"
   ]
  },
  {
   "cell_type": "code",
   "execution_count": 10,
   "id": "d7d6f695-ed5a-4abe-9605-c5cf182487f0",
   "metadata": {},
   "outputs": [
    {
     "data": {
      "text/plain": [
       "(tensor([[5., 5., 5., 5., 5., 5., 5., 5., 5.]]),\n",
       " tensor([5., 5., 5., 5., 5., 5., 5., 5., 5.]),\n",
       " torch.Size([9]))"
      ]
     },
     "execution_count": 10,
     "metadata": {},
     "output_type": "execute_result"
    }
   ],
   "source": [
    "# Sqeeze  \n",
    "y = torch.squeeze(x_1)  ## All single dimensions have been removed\n",
    "x_1, y , y.shape"
   ]
  },
  {
   "cell_type": "code",
   "execution_count": 22,
   "id": "ad91d6df-b59c-4d6f-ad59-5b3571b514ce",
   "metadata": {},
   "outputs": [
    {
     "data": {
      "text/plain": [
       "(tensor([[5.],\n",
       "         [5.],\n",
       "         [5.],\n",
       "         [5.],\n",
       "         [5.],\n",
       "         [5.],\n",
       "         [5.],\n",
       "         [5.],\n",
       "         [5.]]),\n",
       " torch.Size([9, 1]))"
      ]
     },
     "execution_count": 22,
     "metadata": {},
     "output_type": "execute_result"
    }
   ],
   "source": [
    "# Unsqueeze \n",
    "u= x.unsqueeze(dim=1) ## Adds 1 at the given dim in the shape of the tensor\n",
    "u, u.shape"
   ]
  },
  {
   "cell_type": "code",
   "execution_count": 12,
   "id": "68bafa8a-57d1-471d-90ac-d9d3183d77d6",
   "metadata": {},
   "outputs": [],
   "source": [
    "# permute - creates a view of the tensor \n",
    "original = torch.rand(size=(224,224,3))   ## HEight width and the color channels \n",
    "## permute will change the dimension of the tensor \n",
    "permuted= original.permute(2,0,1)"
   ]
  },
  {
   "cell_type": "code",
   "execution_count": 13,
   "id": "696f5fdd-17f9-4d58-99b3-a3fbfd3e1d7e",
   "metadata": {},
   "outputs": [
    {
     "data": {
      "text/plain": [
       "torch.Size([3, 224, 224])"
      ]
     },
     "execution_count": 13,
     "metadata": {},
     "output_type": "execute_result"
    }
   ],
   "source": [
    "permuted.shape"
   ]
  },
  {
   "cell_type": "code",
   "execution_count": 14,
   "id": "13292e83-11ba-4b90-b57a-48a999b8eb42",
   "metadata": {},
   "outputs": [],
   "source": [
    "## from tensor to numpy   `tensor.numpy()`\n",
    "## from numpy to tensor    `torch.from_numpy()`"
   ]
  },
  {
   "cell_type": "markdown",
   "id": "e3f5239d-ce25-4948-bd6e-6373ecffa5d3",
   "metadata": {},
   "source": [
    "#### Reproducibility of Random data\n",
    "\n",
    "To reduce the randomness in neural networks we use Random Seed\n",
    "\n",
    "Random but reproducible tensors"
   ]
  },
  {
   "cell_type": "code",
   "execution_count": 15,
   "id": "8e85d322-f711-4426-91d8-2777ee2f644e",
   "metadata": {},
   "outputs": [
    {
     "name": "stdout",
     "output_type": "stream",
     "text": [
      "tensor([[0.9570, 0.9497, 0.3080],\n",
      "        [0.3976, 0.1194, 0.1982]])\n",
      "tensor([[0.1700, 0.8224, 0.7758],\n",
      "        [0.2016, 0.1275, 0.8210]])\n"
     ]
    }
   ],
   "source": [
    "import torch \n",
    "\n",
    "num1=torch.rand(2,3)\n",
    "num2=torch.rand(2,3)\n",
    "\n",
    "print(num1)\n",
    "print(num2)"
   ]
  },
  {
   "cell_type": "code",
   "execution_count": 16,
   "id": "68b0e223-ff46-4445-adb8-1f04f831006a",
   "metadata": {},
   "outputs": [
    {
     "name": "stdout",
     "output_type": "stream",
     "text": [
      "tensor([[0.8823, 0.9150, 0.3829],\n",
      "        [0.9593, 0.3904, 0.6009],\n",
      "        [0.2566, 0.7936, 0.9408],\n",
      "        [0.1332, 0.9346, 0.5936]])\n",
      "tensor([[0.8823, 0.9150, 0.3829],\n",
      "        [0.9593, 0.3904, 0.6009],\n",
      "        [0.2566, 0.7936, 0.9408],\n",
      "        [0.1332, 0.9346, 0.5936]])\n"
     ]
    }
   ],
   "source": [
    "## now using random Seed\n",
    "torch.manual_seed(42)\n",
    "tensor1=torch.rand(4,3)\n",
    "\n",
    "torch.manual_seed(42)\n",
    "tensor2=torch.rand(4,3)\n",
    "print(tensor1)\n",
    "print(tensor2)"
   ]
  },
  {
   "cell_type": "code",
   "execution_count": 17,
   "id": "aa04c638-7f6f-4e57-82d1-f15d22bb7875",
   "metadata": {},
   "outputs": [],
   "source": [
    "## See the random results are the same!!!"
   ]
  },
  {
   "cell_type": "markdown",
   "id": "18523fa5-14a9-4775-badb-d7d3ef36dc2a",
   "metadata": {},
   "source": [
    "## Neural Network Introduction"
   ]
  },
  {
   "cell_type": "markdown",
   "id": "29cc3cd3-5351-4ac4-9098-121f83777a2d",
   "metadata": {},
   "source": [
    "\n"
   ]
  },
  {
   "cell_type": "code",
   "execution_count": 8,
   "id": "d33a08d1-a386-43a5-9518-94d99bde86b1",
   "metadata": {},
   "outputs": [],
   "source": [
    "import numpy as np"
   ]
  },
  {
   "cell_type": "code",
   "execution_count": 7,
   "id": "7e89d6db-ec59-4881-8274-16be71c88060",
   "metadata": {},
   "outputs": [
    {
     "data": {
      "text/plain": [
       "[[[1], [2]], 5]"
      ]
     },
     "execution_count": 7,
     "metadata": {},
     "output_type": "execute_result"
    }
   ],
   "source": [
    "arr= np.array()"
   ]
  },
  {
   "cell_type": "code",
   "execution_count": 12,
   "id": "2c8c2f80-a23a-45c7-b6b1-e1d43df9bb43",
   "metadata": {},
   "outputs": [],
   "source": [
    "arr = np.array([[[1], [4]], [[1], [4]]])"
   ]
  },
  {
   "cell_type": "code",
   "execution_count": 13,
   "id": "49cbf8eb-4ebe-444d-9256-0652069fd24e",
   "metadata": {},
   "outputs": [
    {
     "data": {
      "text/plain": [
       "(2, 2, 1)"
      ]
     },
     "execution_count": 13,
     "metadata": {},
     "output_type": "execute_result"
    }
   ],
   "source": [
    "arr.shape"
   ]
  },
  {
   "cell_type": "code",
   "execution_count": 17,
   "id": "c9c7ffec-76f5-424f-be00-b2e8c3da3993",
   "metadata": {},
   "outputs": [
    {
     "data": {
      "text/plain": [
       "array([[1, 4],\n",
       "       [1, 4]])"
      ]
     },
     "execution_count": 17,
     "metadata": {},
     "output_type": "execute_result"
    }
   ],
   "source": [
    "np.squeeze(arr)"
   ]
  },
  {
   "cell_type": "code",
   "execution_count": null,
   "id": "91103175-c01a-47d3-9b39-9d7b628b30ec",
   "metadata": {},
   "outputs": [],
   "source": []
  }
 ],
 "metadata": {
  "kernelspec": {
   "display_name": "Python 3 (ipykernel)",
   "language": "python",
   "name": "python3"
  },
  "language_info": {
   "codemirror_mode": {
    "name": "ipython",
    "version": 3
   },
   "file_extension": ".py",
   "mimetype": "text/x-python",
   "name": "python",
   "nbconvert_exporter": "python",
   "pygments_lexer": "ipython3",
   "version": "3.9.12"
  }
 },
 "nbformat": 4,
 "nbformat_minor": 5
}
